{
 "cells": [
  {
   "cell_type": "markdown",
   "metadata": {},
   "source": [
    "# Welcome to Week 1"
   ]
  },
  {
   "cell_type": "markdown",
   "metadata": {},
   "source": [
    "You might me aware about using jupyter notebook.  \n",
    "It's simple to use and interactive enough to explain you everything.  \n",
    "This writen here is language called Markdown which helps us make it more interactive.  \n",
    "\n",
    "To run a code you need select it and click `Run`. \n",
    "\n",
    "If at any given moment your kernel stops responding restart and re-run the code using options from `Kernel`.\n",
    "You can also run a box by pressing `Shift`+`Enter`\n",
    "\n",
    "Now let's start our amazing journey, 1 step at a time."
   ]
  },
  {
   "cell_type": "markdown",
   "metadata": {},
   "source": [
    "# [Numpy](https://numpy.org/)"
   ]
  },
  {
   "cell_type": "code",
   "execution_count": 1,
   "metadata": {},
   "outputs": [],
   "source": [
    "import numpy as np"
   ]
  },
  {
   "cell_type": "markdown",
   "metadata": {},
   "source": [
    "Numpy is a mathematical library which helps us in most of the mathematical functions.  \n",
    "\n",
    "Let's get clarified with arrays, lists and tuples\n",
    "\n",
    "### Array\n",
    "An array is a contiguous memory allocation for data storage of same datatype. The static array always has a predefined size and it is efficient for iterative works as the elements are stored side by side in the dedicated memory locations. It is not that effective when it comes to inserting a new element in between the already present elements.\n",
    "Similarly, it causes inefficient memory management when you delete an element in between the elements present. \n",
    "To avoid the drawbacks of static arrays to a certain extent, the dynamic array was introduced and the data structures like vectors, array list and likewise fall under the dynamic array. These dynamic arrays can be resized, and they can be placed in a scattered manner in the memory space as per availability.\n",
    "\n",
    "### List\n",
    "The concept of the dynamic array led to list or linked list as some like to call it. Unlike an array, a linked list is not continuous memory allocation. It has scatted memory allocation technique. Each node of a list consists of two parts. The first part contains the data while the second part is a pointer that had the memory reference of the next node wherever it is placed in the memory. This makes the memory management efficient in all scenarios and you can add or delete nodes in a list effortlessly with extremely high processing speed. Unlike an array, a list can have different data types.\n",
    "\n",
    "### Tuple\n",
    "A tuple is an object that can contain heterogeneous data. Out of all data structures, a tuple is the fastest and they consume the least amount of memory. Like a static array, a tuple is fixed in size and that is why tuples are replacing array completely as they are more efficient in all parameters. If you have a dataset which will be assigned only once, and its value should not change again, you need a tuple.\n",
    "\n",
    "More support material is available [here](https://github.com/kabirnagpal/100DaysofML/blob/master/Resources/General/Numpy.pdf)"
   ]
  },
  {
   "cell_type": "code",
   "execution_count": 2,
   "metadata": {},
   "outputs": [],
   "source": [
    "a=[1,2,3]"
   ]
  },
  {
   "cell_type": "code",
   "execution_count": 3,
   "metadata": {},
   "outputs": [
    {
     "data": {
      "text/plain": [
       "list"
      ]
     },
     "execution_count": 3,
     "metadata": {},
     "output_type": "execute_result"
    }
   ],
   "source": [
    "type(a)"
   ]
  },
  {
   "cell_type": "code",
   "execution_count": 4,
   "metadata": {},
   "outputs": [
    {
     "data": {
      "text/plain": [
       "numpy.ndarray"
      ]
     },
     "execution_count": 4,
     "metadata": {},
     "output_type": "execute_result"
    }
   ],
   "source": [
    "b=np.array(a)\n",
    "type(b)"
   ]
  },
  {
   "cell_type": "code",
   "execution_count": 5,
   "metadata": {},
   "outputs": [
    {
     "data": {
      "text/plain": [
       "3"
      ]
     },
     "execution_count": 5,
     "metadata": {},
     "output_type": "execute_result"
    }
   ],
   "source": [
    "len(b)"
   ]
  },
  {
   "cell_type": "code",
   "execution_count": 6,
   "metadata": {},
   "outputs": [
    {
     "name": "stdout",
     "output_type": "stream",
     "text": [
      "[1, 2, 3, 4]\n"
     ]
    }
   ],
   "source": [
    "a.append(4)\n",
    "print(a)"
   ]
  },
  {
   "cell_type": "code",
   "execution_count": 7,
   "metadata": {},
   "outputs": [
    {
     "name": "stdout",
     "output_type": "stream",
     "text": [
      "[1, 2, 3, 4, 5]\n"
     ]
    }
   ],
   "source": [
    "a.insert(4,5)\n",
    "print(a)"
   ]
  },
  {
   "cell_type": "code",
   "execution_count": 8,
   "metadata": {},
   "outputs": [
    {
     "name": "stdout",
     "output_type": "stream",
     "text": [
      "[7, 1, 2, 3, 4, 5]\n"
     ]
    }
   ],
   "source": [
    "a.insert(0,7)\n",
    "print(a)"
   ]
  },
  {
   "cell_type": "code",
   "execution_count": 9,
   "metadata": {},
   "outputs": [],
   "source": [
    "c=np.array([[1,2],[3,4]])\n",
    "d=np.array([[2,2]])"
   ]
  },
  {
   "cell_type": "code",
   "execution_count": 10,
   "metadata": {},
   "outputs": [
    {
     "data": {
      "text/plain": [
       "numpy.ndarray"
      ]
     },
     "execution_count": 10,
     "metadata": {},
     "output_type": "execute_result"
    }
   ],
   "source": [
    "type(c)"
   ]
  },
  {
   "cell_type": "code",
   "execution_count": 11,
   "metadata": {},
   "outputs": [
    {
     "data": {
      "text/plain": [
       "array([[2, 4],\n",
       "       [6, 8]])"
      ]
     },
     "execution_count": 11,
     "metadata": {},
     "output_type": "execute_result"
    }
   ],
   "source": [
    "c*d"
   ]
  },
  {
   "cell_type": "code",
   "execution_count": 12,
   "metadata": {},
   "outputs": [
    {
     "data": {
      "text/plain": [
       "array([[ 1,  4],\n",
       "       [ 9, 16]])"
      ]
     },
     "execution_count": 12,
     "metadata": {},
     "output_type": "execute_result"
    }
   ],
   "source": [
    "c**d"
   ]
  },
  {
   "cell_type": "code",
   "execution_count": 13,
   "metadata": {},
   "outputs": [
    {
     "data": {
      "text/plain": [
       "array([[ 6],\n",
       "       [14]])"
      ]
     },
     "execution_count": 13,
     "metadata": {},
     "output_type": "execute_result"
    }
   ],
   "source": [
    "np.dot(c,d.T)"
   ]
  },
  {
   "cell_type": "markdown",
   "metadata": {},
   "source": [
    "Adding `.T` takes transpose of the matrix."
   ]
  },
  {
   "cell_type": "code",
   "execution_count": 14,
   "metadata": {},
   "outputs": [
    {
     "data": {
      "text/plain": [
       "10"
      ]
     },
     "execution_count": 14,
     "metadata": {},
     "output_type": "execute_result"
    }
   ],
   "source": [
    "np.sum(c)"
   ]
  },
  {
   "cell_type": "code",
   "execution_count": 15,
   "metadata": {},
   "outputs": [
    {
     "data": {
      "text/plain": [
       "array([[0.        , 0.69314718],\n",
       "       [1.09861229, 1.38629436]])"
      ]
     },
     "execution_count": 15,
     "metadata": {},
     "output_type": "execute_result"
    }
   ],
   "source": [
    "np.log(c)"
   ]
  },
  {
   "cell_type": "code",
   "execution_count": 16,
   "metadata": {},
   "outputs": [
    {
     "data": {
      "text/plain": [
       "4"
      ]
     },
     "execution_count": 16,
     "metadata": {},
     "output_type": "execute_result"
    }
   ],
   "source": [
    "c.max()"
   ]
  },
  {
   "cell_type": "code",
   "execution_count": 17,
   "metadata": {},
   "outputs": [
    {
     "data": {
      "text/plain": [
       "2.5"
      ]
     },
     "execution_count": 17,
     "metadata": {},
     "output_type": "execute_result"
    }
   ],
   "source": [
    "c.mean()"
   ]
  },
  {
   "cell_type": "markdown",
   "metadata": {},
   "source": [
    "#### Do Check out [official docs](https://numpy.org/) or [blogs](https://www.geeksforgeeks.org/python-numpy/) to learn more array and mathematical functions."
   ]
  },
  {
   "cell_type": "markdown",
   "metadata": {},
   "source": [
    "# [Pandas](https://pandas.pydata.org/)"
   ]
  },
  {
   "cell_type": "markdown",
   "metadata": {},
   "source": [
    "This library is majorly used to deal with dataframes extracted from csv/tsv.  \n",
    "Machine learning is used on a well formated numerical datasets.  \n",
    "Hence you'll have to learn about some of the most used functions of this or similar libraries."
   ]
  },
  {
   "cell_type": "code",
   "execution_count": 18,
   "metadata": {},
   "outputs": [],
   "source": [
    "import pandas as pd"
   ]
  },
  {
   "cell_type": "markdown",
   "metadata": {},
   "source": [
    "The dataset is already present in the data foulder. You can check it out [here](https://www.kaggle.com/geomack/spotifyclassification).  "
   ]
  },
  {
   "cell_type": "code",
   "execution_count": 19,
   "metadata": {},
   "outputs": [],
   "source": [
    "data=pd.read_csv('data/data_sound.csv')"
   ]
  },
  {
   "cell_type": "code",
   "execution_count": 20,
   "metadata": {},
   "outputs": [
    {
     "data": {
      "text/html": [
       "<div>\n",
       "<style scoped>\n",
       "    .dataframe tbody tr th:only-of-type {\n",
       "        vertical-align: middle;\n",
       "    }\n",
       "\n",
       "    .dataframe tbody tr th {\n",
       "        vertical-align: top;\n",
       "    }\n",
       "\n",
       "    .dataframe thead th {\n",
       "        text-align: right;\n",
       "    }\n",
       "</style>\n",
       "<table border=\"1\" class=\"dataframe\">\n",
       "  <thead>\n",
       "    <tr style=\"text-align: right;\">\n",
       "      <th></th>\n",
       "      <th>Unnamed: 0</th>\n",
       "      <th>acousticness</th>\n",
       "      <th>danceability</th>\n",
       "      <th>duration_ms</th>\n",
       "      <th>energy</th>\n",
       "      <th>instrumentalness</th>\n",
       "      <th>key</th>\n",
       "      <th>liveness</th>\n",
       "      <th>loudness</th>\n",
       "      <th>mode</th>\n",
       "      <th>speechiness</th>\n",
       "      <th>tempo</th>\n",
       "      <th>time_signature</th>\n",
       "      <th>valence</th>\n",
       "      <th>target</th>\n",
       "      <th>song_title</th>\n",
       "      <th>artist</th>\n",
       "    </tr>\n",
       "  </thead>\n",
       "  <tbody>\n",
       "    <tr>\n",
       "      <th>0</th>\n",
       "      <td>0</td>\n",
       "      <td>0.0102</td>\n",
       "      <td>0.833</td>\n",
       "      <td>204600</td>\n",
       "      <td>0.434</td>\n",
       "      <td>0.021900</td>\n",
       "      <td>2</td>\n",
       "      <td>0.1650</td>\n",
       "      <td>-8.795</td>\n",
       "      <td>1</td>\n",
       "      <td>0.4310</td>\n",
       "      <td>150.062</td>\n",
       "      <td>4.0</td>\n",
       "      <td>0.286</td>\n",
       "      <td>1</td>\n",
       "      <td>Mask Off</td>\n",
       "      <td>Future</td>\n",
       "    </tr>\n",
       "    <tr>\n",
       "      <th>1</th>\n",
       "      <td>1</td>\n",
       "      <td>0.1990</td>\n",
       "      <td>0.743</td>\n",
       "      <td>326933</td>\n",
       "      <td>0.359</td>\n",
       "      <td>0.006110</td>\n",
       "      <td>1</td>\n",
       "      <td>0.1370</td>\n",
       "      <td>-10.401</td>\n",
       "      <td>1</td>\n",
       "      <td>0.0794</td>\n",
       "      <td>160.083</td>\n",
       "      <td>4.0</td>\n",
       "      <td>0.588</td>\n",
       "      <td>1</td>\n",
       "      <td>Redbone</td>\n",
       "      <td>Childish Gambino</td>\n",
       "    </tr>\n",
       "    <tr>\n",
       "      <th>2</th>\n",
       "      <td>2</td>\n",
       "      <td>0.0344</td>\n",
       "      <td>0.838</td>\n",
       "      <td>185707</td>\n",
       "      <td>0.412</td>\n",
       "      <td>0.000234</td>\n",
       "      <td>2</td>\n",
       "      <td>0.1590</td>\n",
       "      <td>-7.148</td>\n",
       "      <td>1</td>\n",
       "      <td>0.2890</td>\n",
       "      <td>75.044</td>\n",
       "      <td>4.0</td>\n",
       "      <td>0.173</td>\n",
       "      <td>1</td>\n",
       "      <td>Xanny Family</td>\n",
       "      <td>Future</td>\n",
       "    </tr>\n",
       "    <tr>\n",
       "      <th>3</th>\n",
       "      <td>3</td>\n",
       "      <td>0.6040</td>\n",
       "      <td>0.494</td>\n",
       "      <td>199413</td>\n",
       "      <td>0.338</td>\n",
       "      <td>0.510000</td>\n",
       "      <td>5</td>\n",
       "      <td>0.0922</td>\n",
       "      <td>-15.236</td>\n",
       "      <td>1</td>\n",
       "      <td>0.0261</td>\n",
       "      <td>86.468</td>\n",
       "      <td>4.0</td>\n",
       "      <td>0.230</td>\n",
       "      <td>1</td>\n",
       "      <td>Master Of None</td>\n",
       "      <td>Beach House</td>\n",
       "    </tr>\n",
       "    <tr>\n",
       "      <th>4</th>\n",
       "      <td>4</td>\n",
       "      <td>0.1800</td>\n",
       "      <td>0.678</td>\n",
       "      <td>392893</td>\n",
       "      <td>0.561</td>\n",
       "      <td>0.512000</td>\n",
       "      <td>5</td>\n",
       "      <td>0.4390</td>\n",
       "      <td>-11.648</td>\n",
       "      <td>0</td>\n",
       "      <td>0.0694</td>\n",
       "      <td>174.004</td>\n",
       "      <td>4.0</td>\n",
       "      <td>0.904</td>\n",
       "      <td>1</td>\n",
       "      <td>Parallel Lines</td>\n",
       "      <td>Junior Boys</td>\n",
       "    </tr>\n",
       "  </tbody>\n",
       "</table>\n",
       "</div>"
      ],
      "text/plain": [
       "   Unnamed: 0  acousticness  danceability  duration_ms  energy  \\\n",
       "0           0        0.0102         0.833       204600   0.434   \n",
       "1           1        0.1990         0.743       326933   0.359   \n",
       "2           2        0.0344         0.838       185707   0.412   \n",
       "3           3        0.6040         0.494       199413   0.338   \n",
       "4           4        0.1800         0.678       392893   0.561   \n",
       "\n",
       "   instrumentalness  key  liveness  loudness  mode  speechiness    tempo  \\\n",
       "0          0.021900    2    0.1650    -8.795     1       0.4310  150.062   \n",
       "1          0.006110    1    0.1370   -10.401     1       0.0794  160.083   \n",
       "2          0.000234    2    0.1590    -7.148     1       0.2890   75.044   \n",
       "3          0.510000    5    0.0922   -15.236     1       0.0261   86.468   \n",
       "4          0.512000    5    0.4390   -11.648     0       0.0694  174.004   \n",
       "\n",
       "   time_signature  valence  target      song_title            artist  \n",
       "0             4.0    0.286       1        Mask Off            Future  \n",
       "1             4.0    0.588       1         Redbone  Childish Gambino  \n",
       "2             4.0    0.173       1    Xanny Family            Future  \n",
       "3             4.0    0.230       1  Master Of None       Beach House  \n",
       "4             4.0    0.904       1  Parallel Lines       Junior Boys  "
      ]
     },
     "execution_count": 20,
     "metadata": {},
     "output_type": "execute_result"
    }
   ],
   "source": [
    "#print first 5 rows\n",
    "data.head()"
   ]
  },
  {
   "cell_type": "code",
   "execution_count": 21,
   "metadata": {},
   "outputs": [
    {
     "data": {
      "text/html": [
       "<div>\n",
       "<style scoped>\n",
       "    .dataframe tbody tr th:only-of-type {\n",
       "        vertical-align: middle;\n",
       "    }\n",
       "\n",
       "    .dataframe tbody tr th {\n",
       "        vertical-align: top;\n",
       "    }\n",
       "\n",
       "    .dataframe thead th {\n",
       "        text-align: right;\n",
       "    }\n",
       "</style>\n",
       "<table border=\"1\" class=\"dataframe\">\n",
       "  <thead>\n",
       "    <tr style=\"text-align: right;\">\n",
       "      <th></th>\n",
       "      <th>Unnamed: 0</th>\n",
       "      <th>acousticness</th>\n",
       "      <th>danceability</th>\n",
       "      <th>duration_ms</th>\n",
       "      <th>energy</th>\n",
       "      <th>instrumentalness</th>\n",
       "      <th>key</th>\n",
       "      <th>liveness</th>\n",
       "      <th>loudness</th>\n",
       "      <th>mode</th>\n",
       "      <th>speechiness</th>\n",
       "      <th>tempo</th>\n",
       "      <th>time_signature</th>\n",
       "      <th>valence</th>\n",
       "      <th>target</th>\n",
       "    </tr>\n",
       "  </thead>\n",
       "  <tbody>\n",
       "    <tr>\n",
       "      <th>count</th>\n",
       "      <td>2017.000000</td>\n",
       "      <td>2017.000000</td>\n",
       "      <td>2017.000000</td>\n",
       "      <td>2.017000e+03</td>\n",
       "      <td>2017.000000</td>\n",
       "      <td>2017.000000</td>\n",
       "      <td>2017.000000</td>\n",
       "      <td>2017.000000</td>\n",
       "      <td>2017.000000</td>\n",
       "      <td>2017.000000</td>\n",
       "      <td>2017.000000</td>\n",
       "      <td>2017.000000</td>\n",
       "      <td>2017.000000</td>\n",
       "      <td>2017.000000</td>\n",
       "      <td>2017.000000</td>\n",
       "    </tr>\n",
       "    <tr>\n",
       "      <th>mean</th>\n",
       "      <td>1008.000000</td>\n",
       "      <td>0.187590</td>\n",
       "      <td>0.618422</td>\n",
       "      <td>2.463062e+05</td>\n",
       "      <td>0.681577</td>\n",
       "      <td>0.133286</td>\n",
       "      <td>5.342588</td>\n",
       "      <td>0.190844</td>\n",
       "      <td>-7.085624</td>\n",
       "      <td>0.612295</td>\n",
       "      <td>0.092664</td>\n",
       "      <td>121.603272</td>\n",
       "      <td>3.968270</td>\n",
       "      <td>0.496815</td>\n",
       "      <td>0.505702</td>\n",
       "    </tr>\n",
       "    <tr>\n",
       "      <th>std</th>\n",
       "      <td>582.402066</td>\n",
       "      <td>0.259989</td>\n",
       "      <td>0.161029</td>\n",
       "      <td>8.198181e+04</td>\n",
       "      <td>0.210273</td>\n",
       "      <td>0.273162</td>\n",
       "      <td>3.648240</td>\n",
       "      <td>0.155453</td>\n",
       "      <td>3.761684</td>\n",
       "      <td>0.487347</td>\n",
       "      <td>0.089931</td>\n",
       "      <td>26.685604</td>\n",
       "      <td>0.255853</td>\n",
       "      <td>0.247195</td>\n",
       "      <td>0.500091</td>\n",
       "    </tr>\n",
       "    <tr>\n",
       "      <th>min</th>\n",
       "      <td>0.000000</td>\n",
       "      <td>0.000003</td>\n",
       "      <td>0.122000</td>\n",
       "      <td>1.604200e+04</td>\n",
       "      <td>0.014800</td>\n",
       "      <td>0.000000</td>\n",
       "      <td>0.000000</td>\n",
       "      <td>0.018800</td>\n",
       "      <td>-33.097000</td>\n",
       "      <td>0.000000</td>\n",
       "      <td>0.023100</td>\n",
       "      <td>47.859000</td>\n",
       "      <td>1.000000</td>\n",
       "      <td>0.034800</td>\n",
       "      <td>0.000000</td>\n",
       "    </tr>\n",
       "    <tr>\n",
       "      <th>25%</th>\n",
       "      <td>504.000000</td>\n",
       "      <td>0.009630</td>\n",
       "      <td>0.514000</td>\n",
       "      <td>2.000150e+05</td>\n",
       "      <td>0.563000</td>\n",
       "      <td>0.000000</td>\n",
       "      <td>2.000000</td>\n",
       "      <td>0.092300</td>\n",
       "      <td>-8.394000</td>\n",
       "      <td>0.000000</td>\n",
       "      <td>0.037500</td>\n",
       "      <td>100.189000</td>\n",
       "      <td>4.000000</td>\n",
       "      <td>0.295000</td>\n",
       "      <td>0.000000</td>\n",
       "    </tr>\n",
       "    <tr>\n",
       "      <th>50%</th>\n",
       "      <td>1008.000000</td>\n",
       "      <td>0.063300</td>\n",
       "      <td>0.631000</td>\n",
       "      <td>2.292610e+05</td>\n",
       "      <td>0.715000</td>\n",
       "      <td>0.000076</td>\n",
       "      <td>6.000000</td>\n",
       "      <td>0.127000</td>\n",
       "      <td>-6.248000</td>\n",
       "      <td>1.000000</td>\n",
       "      <td>0.054900</td>\n",
       "      <td>121.427000</td>\n",
       "      <td>4.000000</td>\n",
       "      <td>0.492000</td>\n",
       "      <td>1.000000</td>\n",
       "    </tr>\n",
       "    <tr>\n",
       "      <th>75%</th>\n",
       "      <td>1512.000000</td>\n",
       "      <td>0.265000</td>\n",
       "      <td>0.738000</td>\n",
       "      <td>2.703330e+05</td>\n",
       "      <td>0.846000</td>\n",
       "      <td>0.054000</td>\n",
       "      <td>9.000000</td>\n",
       "      <td>0.247000</td>\n",
       "      <td>-4.746000</td>\n",
       "      <td>1.000000</td>\n",
       "      <td>0.108000</td>\n",
       "      <td>137.849000</td>\n",
       "      <td>4.000000</td>\n",
       "      <td>0.691000</td>\n",
       "      <td>1.000000</td>\n",
       "    </tr>\n",
       "    <tr>\n",
       "      <th>max</th>\n",
       "      <td>2016.000000</td>\n",
       "      <td>0.995000</td>\n",
       "      <td>0.984000</td>\n",
       "      <td>1.004627e+06</td>\n",
       "      <td>0.998000</td>\n",
       "      <td>0.976000</td>\n",
       "      <td>11.000000</td>\n",
       "      <td>0.969000</td>\n",
       "      <td>-0.307000</td>\n",
       "      <td>1.000000</td>\n",
       "      <td>0.816000</td>\n",
       "      <td>219.331000</td>\n",
       "      <td>5.000000</td>\n",
       "      <td>0.992000</td>\n",
       "      <td>1.000000</td>\n",
       "    </tr>\n",
       "  </tbody>\n",
       "</table>\n",
       "</div>"
      ],
      "text/plain": [
       "        Unnamed: 0  acousticness  danceability   duration_ms       energy  \\\n",
       "count  2017.000000   2017.000000   2017.000000  2.017000e+03  2017.000000   \n",
       "mean   1008.000000      0.187590      0.618422  2.463062e+05     0.681577   \n",
       "std     582.402066      0.259989      0.161029  8.198181e+04     0.210273   \n",
       "min       0.000000      0.000003      0.122000  1.604200e+04     0.014800   \n",
       "25%     504.000000      0.009630      0.514000  2.000150e+05     0.563000   \n",
       "50%    1008.000000      0.063300      0.631000  2.292610e+05     0.715000   \n",
       "75%    1512.000000      0.265000      0.738000  2.703330e+05     0.846000   \n",
       "max    2016.000000      0.995000      0.984000  1.004627e+06     0.998000   \n",
       "\n",
       "       instrumentalness          key     liveness     loudness         mode  \\\n",
       "count       2017.000000  2017.000000  2017.000000  2017.000000  2017.000000   \n",
       "mean           0.133286     5.342588     0.190844    -7.085624     0.612295   \n",
       "std            0.273162     3.648240     0.155453     3.761684     0.487347   \n",
       "min            0.000000     0.000000     0.018800   -33.097000     0.000000   \n",
       "25%            0.000000     2.000000     0.092300    -8.394000     0.000000   \n",
       "50%            0.000076     6.000000     0.127000    -6.248000     1.000000   \n",
       "75%            0.054000     9.000000     0.247000    -4.746000     1.000000   \n",
       "max            0.976000    11.000000     0.969000    -0.307000     1.000000   \n",
       "\n",
       "       speechiness        tempo  time_signature      valence       target  \n",
       "count  2017.000000  2017.000000     2017.000000  2017.000000  2017.000000  \n",
       "mean      0.092664   121.603272        3.968270     0.496815     0.505702  \n",
       "std       0.089931    26.685604        0.255853     0.247195     0.500091  \n",
       "min       0.023100    47.859000        1.000000     0.034800     0.000000  \n",
       "25%       0.037500   100.189000        4.000000     0.295000     0.000000  \n",
       "50%       0.054900   121.427000        4.000000     0.492000     1.000000  \n",
       "75%       0.108000   137.849000        4.000000     0.691000     1.000000  \n",
       "max       0.816000   219.331000        5.000000     0.992000     1.000000  "
      ]
     },
     "execution_count": 21,
     "metadata": {},
     "output_type": "execute_result"
    }
   ],
   "source": [
    "# Gives the details of value range in each column\n",
    "data.describe()"
   ]
  },
  {
   "cell_type": "code",
   "execution_count": 22,
   "metadata": {},
   "outputs": [
    {
     "data": {
      "text/plain": [
       "0    0.0102\n",
       "1    0.1990\n",
       "2    0.0344\n",
       "3    0.6040\n",
       "4    0.1800\n",
       "Name: acousticness, dtype: float64"
      ]
     },
     "execution_count": 22,
     "metadata": {},
     "output_type": "execute_result"
    }
   ],
   "source": [
    "# transfering acousticness column to different dataset\n",
    "data1=data[\"acousticness\"]\n",
    "data1.head()"
   ]
  },
  {
   "cell_type": "code",
   "execution_count": 23,
   "metadata": {},
   "outputs": [
    {
     "data": {
      "text/plain": [
       "0.18759003442241004"
      ]
     },
     "execution_count": 23,
     "metadata": {},
     "output_type": "execute_result"
    }
   ],
   "source": [
    "data1.mean()"
   ]
  },
  {
   "cell_type": "code",
   "execution_count": 24,
   "metadata": {},
   "outputs": [
    {
     "data": {
      "text/html": [
       "<div>\n",
       "<style scoped>\n",
       "    .dataframe tbody tr th:only-of-type {\n",
       "        vertical-align: middle;\n",
       "    }\n",
       "\n",
       "    .dataframe tbody tr th {\n",
       "        vertical-align: top;\n",
       "    }\n",
       "\n",
       "    .dataframe thead th {\n",
       "        text-align: right;\n",
       "    }\n",
       "</style>\n",
       "<table border=\"1\" class=\"dataframe\">\n",
       "  <thead>\n",
       "    <tr style=\"text-align: right;\">\n",
       "      <th></th>\n",
       "      <th>Unnamed: 0</th>\n",
       "      <th>acousticness</th>\n",
       "      <th>danceability</th>\n",
       "      <th>duration_ms</th>\n",
       "      <th>energy</th>\n",
       "      <th>instrumentalness</th>\n",
       "      <th>key</th>\n",
       "      <th>liveness</th>\n",
       "      <th>loudness</th>\n",
       "      <th>speechiness</th>\n",
       "      <th>tempo</th>\n",
       "      <th>time_signature</th>\n",
       "      <th>valence</th>\n",
       "      <th>target</th>\n",
       "    </tr>\n",
       "    <tr>\n",
       "      <th>mode</th>\n",
       "      <th></th>\n",
       "      <th></th>\n",
       "      <th></th>\n",
       "      <th></th>\n",
       "      <th></th>\n",
       "      <th></th>\n",
       "      <th></th>\n",
       "      <th></th>\n",
       "      <th></th>\n",
       "      <th></th>\n",
       "      <th></th>\n",
       "      <th></th>\n",
       "      <th></th>\n",
       "      <th></th>\n",
       "    </tr>\n",
       "  </thead>\n",
       "  <tbody>\n",
       "    <tr>\n",
       "      <th>0</th>\n",
       "      <td>963.629156</td>\n",
       "      <td>0.165369</td>\n",
       "      <td>0.628106</td>\n",
       "      <td>254011.260870</td>\n",
       "      <td>0.700139</td>\n",
       "      <td>0.143615</td>\n",
       "      <td>6.236573</td>\n",
       "      <td>0.194474</td>\n",
       "      <td>-6.877605</td>\n",
       "      <td>0.098246</td>\n",
       "      <td>123.614758</td>\n",
       "      <td>3.980818</td>\n",
       "      <td>0.507026</td>\n",
       "      <td>0.551151</td>\n",
       "    </tr>\n",
       "    <tr>\n",
       "      <th>1</th>\n",
       "      <td>1036.095547</td>\n",
       "      <td>0.201660</td>\n",
       "      <td>0.612290</td>\n",
       "      <td>241427.363563</td>\n",
       "      <td>0.669824</td>\n",
       "      <td>0.126745</td>\n",
       "      <td>4.776518</td>\n",
       "      <td>0.188545</td>\n",
       "      <td>-7.217342</td>\n",
       "      <td>0.089130</td>\n",
       "      <td>120.329602</td>\n",
       "      <td>3.960324</td>\n",
       "      <td>0.490349</td>\n",
       "      <td>0.476923</td>\n",
       "    </tr>\n",
       "  </tbody>\n",
       "</table>\n",
       "</div>"
      ],
      "text/plain": [
       "       Unnamed: 0  acousticness  danceability    duration_ms    energy  \\\n",
       "mode                                                                     \n",
       "0      963.629156      0.165369      0.628106  254011.260870  0.700139   \n",
       "1     1036.095547      0.201660      0.612290  241427.363563  0.669824   \n",
       "\n",
       "      instrumentalness       key  liveness  loudness  speechiness       tempo  \\\n",
       "mode                                                                            \n",
       "0             0.143615  6.236573  0.194474 -6.877605     0.098246  123.614758   \n",
       "1             0.126745  4.776518  0.188545 -7.217342     0.089130  120.329602   \n",
       "\n",
       "      time_signature   valence    target  \n",
       "mode                                      \n",
       "0           3.980818  0.507026  0.551151  \n",
       "1           3.960324  0.490349  0.476923  "
      ]
     },
     "execution_count": 24,
     "metadata": {},
     "output_type": "execute_result"
    }
   ],
   "source": [
    "data.groupby(['mode']).mean()\n",
    "# over here we've grouped the data on the basis of Modes and taken the mean the of other columns\n",
    "# similarly we can apply similar functions such as sum, aggregate etc as well."
   ]
  },
  {
   "cell_type": "markdown",
   "metadata": {},
   "source": [
    "All the major SQL commands can also be performed on the DataFrame. \n",
    "This helps us to extract insights from the data.  \n",
    "There is a method called magic box sql that allows us to change dataset using sql commands. \n",
    "You can learn more from [this](https://www.geeksforgeeks.org/python-pandas-dataframe/) link. "
   ]
  },
  {
   "cell_type": "markdown",
   "metadata": {},
   "source": [
    "## Feature Engineering on Dataset"
   ]
  },
  {
   "cell_type": "markdown",
   "metadata": {},
   "source": [
    "## Drop columns which seem irrelevant"
   ]
  },
  {
   "cell_type": "code",
   "execution_count": 25,
   "metadata": {},
   "outputs": [],
   "source": [
    "data=data.drop([\"song_title\",\"artist\",\"Unnamed: 0\",\"target\",],axis=1)"
   ]
  },
  {
   "cell_type": "code",
   "execution_count": 26,
   "metadata": {},
   "outputs": [
    {
     "data": {
      "text/plain": [
       "acousticness        0\n",
       "danceability        0\n",
       "duration_ms         0\n",
       "energy              0\n",
       "instrumentalness    0\n",
       "key                 0\n",
       "liveness            0\n",
       "loudness            0\n",
       "mode                0\n",
       "speechiness         0\n",
       "tempo               0\n",
       "time_signature      0\n",
       "valence             0\n",
       "dtype: int64"
      ]
     },
     "execution_count": 26,
     "metadata": {},
     "output_type": "execute_result"
    }
   ],
   "source": [
    "# Number of missing values in each column\n",
    "data.isna().sum()"
   ]
  },
  {
   "cell_type": "markdown",
   "metadata": {},
   "source": [
    "## What to do with incomplete dataset"
   ]
  },
  {
   "cell_type": "markdown",
   "metadata": {},
   "source": [
    "### Option 1\n",
    "Remove those rows ( recommended only if number of missing values are less )"
   ]
  },
  {
   "cell_type": "code",
   "execution_count": 27,
   "metadata": {},
   "outputs": [],
   "source": [
    "data = data.dropna(how='any',axis=0) "
   ]
  },
  {
   "cell_type": "markdown",
   "metadata": {},
   "source": [
    "### Option 2\n",
    "Replace the with mean, median or mode of the column/row.  \n",
    "For this we need to extract the values from the dataframe and store it in `x`.  \n",
    "I'm considering all values except the last two columns because they're string type.  \n",
    "For more detail refer the [docs](https://scikit-learn.org/stable/modules/generated/sklearn.impute.SimpleImputer.html)"
   ]
  },
  {
   "cell_type": "code",
   "execution_count": 28,
   "metadata": {},
   "outputs": [],
   "source": [
    "x=data.iloc[:,:-2].values"
   ]
  },
  {
   "cell_type": "code",
   "execution_count": 29,
   "metadata": {},
   "outputs": [],
   "source": [
    "from sklearn.impute import SimpleImputer as Imputer\n",
    "x=Imputer(missing_values=np.nan, strategy = 'mean').fit_transform(x)"
   ]
  },
  {
   "cell_type": "markdown",
   "metadata": {},
   "source": [
    "### Option 3\n",
    "Go and complaint the person who collected :P"
   ]
  },
  {
   "cell_type": "markdown",
   "metadata": {},
   "source": [
    "## What about variation in dataset\n",
    "At times on observing the dataset we find that some values are too large and others too small.  \n",
    "In our case, scale of duration is too large while that of acousticness is too small.    \n",
    "To give equal weightage to all the variables we need scale them down to some specific range.  \n",
    "Refer [here](https://scikit-learn.org/stable/modules/classes.html#module-sklearn.preprocessing) for more methods."
   ]
  },
  {
   "cell_type": "code",
   "execution_count": 30,
   "metadata": {},
   "outputs": [
    {
     "data": {
      "text/html": [
       "<div>\n",
       "<style scoped>\n",
       "    .dataframe tbody tr th:only-of-type {\n",
       "        vertical-align: middle;\n",
       "    }\n",
       "\n",
       "    .dataframe tbody tr th {\n",
       "        vertical-align: top;\n",
       "    }\n",
       "\n",
       "    .dataframe thead th {\n",
       "        text-align: right;\n",
       "    }\n",
       "</style>\n",
       "<table border=\"1\" class=\"dataframe\">\n",
       "  <thead>\n",
       "    <tr style=\"text-align: right;\">\n",
       "      <th></th>\n",
       "      <th>0</th>\n",
       "      <th>1</th>\n",
       "      <th>2</th>\n",
       "      <th>3</th>\n",
       "      <th>4</th>\n",
       "      <th>5</th>\n",
       "      <th>6</th>\n",
       "      <th>7</th>\n",
       "      <th>8</th>\n",
       "      <th>9</th>\n",
       "      <th>10</th>\n",
       "    </tr>\n",
       "  </thead>\n",
       "  <tbody>\n",
       "    <tr>\n",
       "      <th>0</th>\n",
       "      <td>-0.682467</td>\n",
       "      <td>1.332874</td>\n",
       "      <td>-0.508851</td>\n",
       "      <td>-1.177700</td>\n",
       "      <td>-0.407864</td>\n",
       "      <td>-0.916446</td>\n",
       "      <td>-0.166291</td>\n",
       "      <td>-0.454530</td>\n",
       "      <td>0.795738</td>\n",
       "      <td>3.763084</td>\n",
       "      <td>1.066709</td>\n",
       "    </tr>\n",
       "    <tr>\n",
       "      <th>1</th>\n",
       "      <td>0.043897</td>\n",
       "      <td>0.773830</td>\n",
       "      <td>0.983716</td>\n",
       "      <td>-1.534468</td>\n",
       "      <td>-0.465683</td>\n",
       "      <td>-1.190619</td>\n",
       "      <td>-0.346454</td>\n",
       "      <td>-0.881573</td>\n",
       "      <td>0.795738</td>\n",
       "      <td>-0.147529</td>\n",
       "      <td>1.442323</td>\n",
       "    </tr>\n",
       "    <tr>\n",
       "      <th>2</th>\n",
       "      <td>-0.589363</td>\n",
       "      <td>1.363932</td>\n",
       "      <td>-0.739362</td>\n",
       "      <td>-1.282352</td>\n",
       "      <td>-0.487200</td>\n",
       "      <td>-0.916446</td>\n",
       "      <td>-0.204897</td>\n",
       "      <td>-0.016586</td>\n",
       "      <td>0.795738</td>\n",
       "      <td>2.183712</td>\n",
       "      <td>-1.745166</td>\n",
       "    </tr>\n",
       "    <tr>\n",
       "      <th>3</th>\n",
       "      <td>1.602040</td>\n",
       "      <td>-0.772860</td>\n",
       "      <td>-0.572137</td>\n",
       "      <td>-1.634363</td>\n",
       "      <td>1.379429</td>\n",
       "      <td>-0.093928</td>\n",
       "      <td>-0.634715</td>\n",
       "      <td>-2.167220</td>\n",
       "      <td>0.795738</td>\n",
       "      <td>-0.740350</td>\n",
       "      <td>-1.316964</td>\n",
       "    </tr>\n",
       "    <tr>\n",
       "      <th>4</th>\n",
       "      <td>-0.029201</td>\n",
       "      <td>0.370075</td>\n",
       "      <td>1.788484</td>\n",
       "      <td>-0.573574</td>\n",
       "      <td>1.386753</td>\n",
       "      <td>-0.093928</td>\n",
       "      <td>1.596735</td>\n",
       "      <td>-1.213155</td>\n",
       "      <td>-1.256696</td>\n",
       "      <td>-0.258753</td>\n",
       "      <td>1.964120</td>\n",
       "    </tr>\n",
       "  </tbody>\n",
       "</table>\n",
       "</div>"
      ],
      "text/plain": [
       "          0         1         2         3         4         5         6  \\\n",
       "0 -0.682467  1.332874 -0.508851 -1.177700 -0.407864 -0.916446 -0.166291   \n",
       "1  0.043897  0.773830  0.983716 -1.534468 -0.465683 -1.190619 -0.346454   \n",
       "2 -0.589363  1.363932 -0.739362 -1.282352 -0.487200 -0.916446 -0.204897   \n",
       "3  1.602040 -0.772860 -0.572137 -1.634363  1.379429 -0.093928 -0.634715   \n",
       "4 -0.029201  0.370075  1.788484 -0.573574  1.386753 -0.093928  1.596735   \n",
       "\n",
       "          7         8         9        10  \n",
       "0 -0.454530  0.795738  3.763084  1.066709  \n",
       "1 -0.881573  0.795738 -0.147529  1.442323  \n",
       "2 -0.016586  0.795738  2.183712 -1.745166  \n",
       "3 -2.167220  0.795738 -0.740350 -1.316964  \n",
       "4 -1.213155 -1.256696 -0.258753  1.964120  "
      ]
     },
     "execution_count": 30,
     "metadata": {},
     "output_type": "execute_result"
    }
   ],
   "source": [
    "from sklearn.preprocessing import StandardScaler\n",
    "x=StandardScaler().fit_transform(x)\n",
    "x=pd.DataFrame(x)\n",
    "x.head()"
   ]
  },
  {
   "cell_type": "markdown",
   "metadata": {},
   "source": [
    "As you can see all the values have now been scaled down.    \n",
    "You can also scale down using these methods.  "
   ]
  },
  {
   "cell_type": "code",
   "execution_count": 31,
   "metadata": {},
   "outputs": [
    {
     "data": {
      "text/html": [
       "<div>\n",
       "<style scoped>\n",
       "    .dataframe tbody tr th:only-of-type {\n",
       "        vertical-align: middle;\n",
       "    }\n",
       "\n",
       "    .dataframe tbody tr th {\n",
       "        vertical-align: top;\n",
       "    }\n",
       "\n",
       "    .dataframe thead th {\n",
       "        text-align: right;\n",
       "    }\n",
       "</style>\n",
       "<table border=\"1\" class=\"dataframe\">\n",
       "  <thead>\n",
       "    <tr style=\"text-align: right;\">\n",
       "      <th></th>\n",
       "      <th>acousticness</th>\n",
       "      <th>danceability</th>\n",
       "      <th>duration_ms</th>\n",
       "      <th>energy</th>\n",
       "      <th>instrumentalness</th>\n",
       "      <th>key</th>\n",
       "      <th>liveness</th>\n",
       "      <th>loudness</th>\n",
       "      <th>mode</th>\n",
       "      <th>speechiness</th>\n",
       "      <th>tempo</th>\n",
       "      <th>time_signature</th>\n",
       "      <th>valence</th>\n",
       "    </tr>\n",
       "  </thead>\n",
       "  <tbody>\n",
       "    <tr>\n",
       "      <th>0</th>\n",
       "      <td>-0.682298</td>\n",
       "      <td>1.332543</td>\n",
       "      <td>-0.508725</td>\n",
       "      <td>-1.177408</td>\n",
       "      <td>-0.407763</td>\n",
       "      <td>-0.916219</td>\n",
       "      <td>-0.166250</td>\n",
       "      <td>-0.454418</td>\n",
       "      <td>0.795540</td>\n",
       "      <td>3.762151</td>\n",
       "      <td>1.066445</td>\n",
       "      <td>0.124017</td>\n",
       "      <td>-0.852827</td>\n",
       "    </tr>\n",
       "    <tr>\n",
       "      <th>1</th>\n",
       "      <td>0.043886</td>\n",
       "      <td>0.773638</td>\n",
       "      <td>0.983472</td>\n",
       "      <td>-1.534087</td>\n",
       "      <td>-0.465568</td>\n",
       "      <td>-1.190324</td>\n",
       "      <td>-0.346368</td>\n",
       "      <td>-0.881354</td>\n",
       "      <td>0.795540</td>\n",
       "      <td>-0.147493</td>\n",
       "      <td>1.441966</td>\n",
       "      <td>0.124017</td>\n",
       "      <td>0.368878</td>\n",
       "    </tr>\n",
       "    <tr>\n",
       "      <th>2</th>\n",
       "      <td>-0.589217</td>\n",
       "      <td>1.363594</td>\n",
       "      <td>-0.739179</td>\n",
       "      <td>-1.282034</td>\n",
       "      <td>-0.487079</td>\n",
       "      <td>-0.916219</td>\n",
       "      <td>-0.204846</td>\n",
       "      <td>-0.016582</td>\n",
       "      <td>0.795540</td>\n",
       "      <td>2.183171</td>\n",
       "      <td>-1.744734</td>\n",
       "      <td>0.124017</td>\n",
       "      <td>-1.309955</td>\n",
       "    </tr>\n",
       "    <tr>\n",
       "      <th>3</th>\n",
       "      <td>1.601643</td>\n",
       "      <td>-0.772668</td>\n",
       "      <td>-0.571995</td>\n",
       "      <td>-1.633957</td>\n",
       "      <td>1.379087</td>\n",
       "      <td>-0.093905</td>\n",
       "      <td>-0.634558</td>\n",
       "      <td>-2.166683</td>\n",
       "      <td>0.795540</td>\n",
       "      <td>-0.740166</td>\n",
       "      <td>-1.316638</td>\n",
       "      <td>0.124017</td>\n",
       "      <td>-1.079369</td>\n",
       "    </tr>\n",
       "    <tr>\n",
       "      <th>4</th>\n",
       "      <td>-0.029194</td>\n",
       "      <td>0.369984</td>\n",
       "      <td>1.788040</td>\n",
       "      <td>-0.573431</td>\n",
       "      <td>1.386409</td>\n",
       "      <td>-0.093905</td>\n",
       "      <td>1.596339</td>\n",
       "      <td>-1.212855</td>\n",
       "      <td>-1.256384</td>\n",
       "      <td>-0.258689</td>\n",
       "      <td>1.963633</td>\n",
       "      <td>0.124017</td>\n",
       "      <td>1.647219</td>\n",
       "    </tr>\n",
       "  </tbody>\n",
       "</table>\n",
       "</div>"
      ],
      "text/plain": [
       "   acousticness  danceability  duration_ms    energy  instrumentalness  \\\n",
       "0     -0.682298      1.332543    -0.508725 -1.177408         -0.407763   \n",
       "1      0.043886      0.773638     0.983472 -1.534087         -0.465568   \n",
       "2     -0.589217      1.363594    -0.739179 -1.282034         -0.487079   \n",
       "3      1.601643     -0.772668    -0.571995 -1.633957          1.379087   \n",
       "4     -0.029194      0.369984     1.788040 -0.573431          1.386409   \n",
       "\n",
       "        key  liveness  loudness      mode  speechiness     tempo  \\\n",
       "0 -0.916219 -0.166250 -0.454418  0.795540     3.762151  1.066445   \n",
       "1 -1.190324 -0.346368 -0.881354  0.795540    -0.147493  1.441966   \n",
       "2 -0.916219 -0.204846 -0.016582  0.795540     2.183171 -1.744734   \n",
       "3 -0.093905 -0.634558 -2.166683  0.795540    -0.740166 -1.316638   \n",
       "4 -0.093905  1.596339 -1.212855 -1.256384    -0.258689  1.963633   \n",
       "\n",
       "   time_signature   valence  \n",
       "0        0.124017 -0.852827  \n",
       "1        0.124017  0.368878  \n",
       "2        0.124017 -1.309955  \n",
       "3        0.124017 -1.079369  \n",
       "4        0.124017  1.647219  "
      ]
     },
     "execution_count": 31,
     "metadata": {},
     "output_type": "execute_result"
    }
   ],
   "source": [
    "df=data\n",
    "normalized_df=(df-df.mean())/df.std()\n",
    "normalized_df.head()"
   ]
  },
  {
   "cell_type": "code",
   "execution_count": 32,
   "metadata": {},
   "outputs": [
    {
     "data": {
      "text/html": [
       "<div>\n",
       "<style scoped>\n",
       "    .dataframe tbody tr th:only-of-type {\n",
       "        vertical-align: middle;\n",
       "    }\n",
       "\n",
       "    .dataframe tbody tr th {\n",
       "        vertical-align: top;\n",
       "    }\n",
       "\n",
       "    .dataframe thead th {\n",
       "        text-align: right;\n",
       "    }\n",
       "</style>\n",
       "<table border=\"1\" class=\"dataframe\">\n",
       "  <thead>\n",
       "    <tr style=\"text-align: right;\">\n",
       "      <th></th>\n",
       "      <th>acousticness</th>\n",
       "      <th>danceability</th>\n",
       "      <th>duration_ms</th>\n",
       "      <th>energy</th>\n",
       "      <th>instrumentalness</th>\n",
       "      <th>key</th>\n",
       "      <th>liveness</th>\n",
       "      <th>loudness</th>\n",
       "      <th>mode</th>\n",
       "      <th>speechiness</th>\n",
       "      <th>tempo</th>\n",
       "      <th>time_signature</th>\n",
       "      <th>valence</th>\n",
       "    </tr>\n",
       "  </thead>\n",
       "  <tbody>\n",
       "    <tr>\n",
       "      <th>0</th>\n",
       "      <td>0.010248</td>\n",
       "      <td>0.824826</td>\n",
       "      <td>0.190735</td>\n",
       "      <td>0.426363</td>\n",
       "      <td>0.022439</td>\n",
       "      <td>0.181818</td>\n",
       "      <td>0.153862</td>\n",
       "      <td>0.741141</td>\n",
       "      <td>1.0</td>\n",
       "      <td>0.514441</td>\n",
       "      <td>0.596033</td>\n",
       "      <td>0.75</td>\n",
       "      <td>0.262432</td>\n",
       "    </tr>\n",
       "    <tr>\n",
       "      <th>1</th>\n",
       "      <td>0.199998</td>\n",
       "      <td>0.720418</td>\n",
       "      <td>0.314481</td>\n",
       "      <td>0.350081</td>\n",
       "      <td>0.006260</td>\n",
       "      <td>0.090909</td>\n",
       "      <td>0.124395</td>\n",
       "      <td>0.692162</td>\n",
       "      <td>1.0</td>\n",
       "      <td>0.071005</td>\n",
       "      <td>0.654474</td>\n",
       "      <td>0.75</td>\n",
       "      <td>0.577936</td>\n",
       "    </tr>\n",
       "    <tr>\n",
       "      <th>2</th>\n",
       "      <td>0.034570</td>\n",
       "      <td>0.830626</td>\n",
       "      <td>0.171624</td>\n",
       "      <td>0.403987</td>\n",
       "      <td>0.000240</td>\n",
       "      <td>0.181818</td>\n",
       "      <td>0.147548</td>\n",
       "      <td>0.791369</td>\n",
       "      <td>1.0</td>\n",
       "      <td>0.335351</td>\n",
       "      <td>0.158539</td>\n",
       "      <td>0.75</td>\n",
       "      <td>0.144379</td>\n",
       "    </tr>\n",
       "    <tr>\n",
       "      <th>3</th>\n",
       "      <td>0.607034</td>\n",
       "      <td>0.431555</td>\n",
       "      <td>0.185488</td>\n",
       "      <td>0.328723</td>\n",
       "      <td>0.522541</td>\n",
       "      <td>0.454545</td>\n",
       "      <td>0.077247</td>\n",
       "      <td>0.544709</td>\n",
       "      <td>1.0</td>\n",
       "      <td>0.003784</td>\n",
       "      <td>0.225162</td>\n",
       "      <td>0.75</td>\n",
       "      <td>0.203928</td>\n",
       "    </tr>\n",
       "    <tr>\n",
       "      <th>4</th>\n",
       "      <td>0.180902</td>\n",
       "      <td>0.645012</td>\n",
       "      <td>0.381202</td>\n",
       "      <td>0.555533</td>\n",
       "      <td>0.524590</td>\n",
       "      <td>0.454545</td>\n",
       "      <td>0.442223</td>\n",
       "      <td>0.654132</td>\n",
       "      <td>0.0</td>\n",
       "      <td>0.058393</td>\n",
       "      <td>0.735659</td>\n",
       "      <td>0.75</td>\n",
       "      <td>0.908065</td>\n",
       "    </tr>\n",
       "  </tbody>\n",
       "</table>\n",
       "</div>"
      ],
      "text/plain": [
       "   acousticness  danceability  duration_ms    energy  instrumentalness  \\\n",
       "0      0.010248      0.824826     0.190735  0.426363          0.022439   \n",
       "1      0.199998      0.720418     0.314481  0.350081          0.006260   \n",
       "2      0.034570      0.830626     0.171624  0.403987          0.000240   \n",
       "3      0.607034      0.431555     0.185488  0.328723          0.522541   \n",
       "4      0.180902      0.645012     0.381202  0.555533          0.524590   \n",
       "\n",
       "        key  liveness  loudness  mode  speechiness     tempo  time_signature  \\\n",
       "0  0.181818  0.153862  0.741141   1.0     0.514441  0.596033            0.75   \n",
       "1  0.090909  0.124395  0.692162   1.0     0.071005  0.654474            0.75   \n",
       "2  0.181818  0.147548  0.791369   1.0     0.335351  0.158539            0.75   \n",
       "3  0.454545  0.077247  0.544709   1.0     0.003784  0.225162            0.75   \n",
       "4  0.454545  0.442223  0.654132   0.0     0.058393  0.735659            0.75   \n",
       "\n",
       "    valence  \n",
       "0  0.262432  \n",
       "1  0.577936  \n",
       "2  0.144379  \n",
       "3  0.203928  \n",
       "4  0.908065  "
      ]
     },
     "execution_count": 32,
     "metadata": {},
     "output_type": "execute_result"
    }
   ],
   "source": [
    "normalized_df=(df-df.min())/(df.max()-df.min())\n",
    "normalized_df.head()"
   ]
  },
  {
   "cell_type": "markdown",
   "metadata": {},
   "source": [
    "## Visualization"
   ]
  },
  {
   "cell_type": "markdown",
   "metadata": {},
   "source": [
    "An important part of Machine Learning includes finding relation in a dataset and also make it easily undestandable for people and your team.  \n",
    "It also helps us undestand the data and apply appropiate methodolgy to solve the problem.  \n",
    "Major libraries to make graphs are\n",
    "* [Seaborn](https://seaborn.pydata.org/)\n",
    "* [Matplotlib](https://matplotlib.org/)  \n",
    "\n",
    "Let's plot some basic graphs. The graphs are also available in the official documentation.  \n",
    "Throughout the series we'll also learn some new graphs."
   ]
  },
  {
   "cell_type": "code",
   "execution_count": 33,
   "metadata": {},
   "outputs": [],
   "source": [
    "import matplotlib.pyplot as plt\n",
    "import seaborn as sns"
   ]
  },
  {
   "cell_type": "code",
   "execution_count": 34,
   "metadata": {},
   "outputs": [
    {
     "data": {
      "image/png": "[encoded data removed]",
      "text/plain": [
       "<Figure size 432x288 with 1 Axes>"
      ]
     },
     "metadata": {
      "needs_background": "light"
     },
     "output_type": "display_data"
    }
   ],
   "source": [
    "t = [0.0, 2.0, 5.0 ] \n",
    "s = [ 0.0 , 10.0 , 25.0 ]\n",
    "\n",
    "plt.plot(t,s)\n",
    "plt.xlabel('X = t')\n",
    "plt.ylabel('Y = s')\n",
    "plt.title('Plot 1')\n",
    "plt.show()"
   ]
  },
  {
   "cell_type": "code",
   "execution_count": 35,
   "metadata": {},
   "outputs": [
    {
     "data": {
      "image/png": "[encoded data removed]",
      "text/plain": [
       "<Figure size 432x288 with 1 Axes>"
      ]
     },
     "metadata": {
      "needs_background": "light"
     },
     "output_type": "display_data"
    }
   ],
   "source": [
    "t = [ i for i in range(0,100,5) ] \n",
    "s = [ i for i in range(0,10000,500) ]\n",
    "\n",
    "plt.bar(t,s,width=2)\n",
    "plt.xlabel('X = t')\n",
    "plt.ylabel('Y = s')\n",
    "plt.title('Plot 1')\n",
    "plt.show()"
   ]
  },
  {
   "cell_type": "code",
   "execution_count": 36,
   "metadata": {},
   "outputs": [
    {
     "data": {
      "image/png": "[encoded data removed]",
      "text/plain": [
       "<Figure size 720x720 with 1 Axes>"
      ]
     },
     "metadata": {
      "needs_background": "light"
     },
     "output_type": "display_data"
    }
   ],
   "source": [
    "t = [ i for i in range(0,100,10) ] \n",
    "s = [ i for i in range(0,10000,1000) ]\n",
    "\n",
    "# defining size of image\n",
    "plt.figure(figsize=(10,10))\n",
    "plt.bar(t,s,width=2)\n",
    "\n",
    "# putting up labels against bars\n",
    "for index, value in zip(t,s):\n",
    "    plt.text(index,value, str(value))\n",
    "    \n",
    "plt.xlabel('X = t')\n",
    "plt.ylabel('Y = s')\n",
    "plt.title('Plot 1')\n",
    "plt.show()"
   ]
  },
  {
   "cell_type": "code",
   "execution_count": 37,
   "metadata": {},
   "outputs": [
    {
     "data": {
      "image/png": "[encoded data removed]",
      "text/plain": [
       "<Figure size 432x288 with 1 Axes>"
      ]
     },
     "metadata": {
      "needs_background": "light"
     },
     "output_type": "display_data"
    }
   ],
   "source": [
    "t = [ i for i in range(0,200,5) ] \n",
    "s = [ ]\n",
    "\n",
    "# making random values\n",
    "for i in range(len(t)):\n",
    "    s.append(np.random.randint(50))\n",
    "\n",
    "plt.scatter(t,s)\n",
    "plt.xlabel('X = t')\n",
    "plt.ylabel('Y = s')\n",
    "plt.title('Plot 1')\n",
    "plt.show()"
   ]
  },
  {
   "cell_type": "code",
   "execution_count": 38,
   "metadata": {},
   "outputs": [
    {
     "data": {
      "image/png": "[encoded data removed]",
      "text/plain": [
       "<Figure size 432x288 with 1 Axes>"
      ]
     },
     "metadata": {},
     "output_type": "display_data"
    }
   ],
   "source": [
    "labels = 'Frogs', 'Hogs', 'Dogs', 'Logs'\n",
    "sizes = [15, 30, 45, 10]\n",
    "\n",
    "plt.pie(sizes, labels=labels)\n",
    "\n",
    "plt.show()"
   ]
  },
  {
   "cell_type": "code",
   "execution_count": 39,
   "metadata": {},
   "outputs": [
    {
     "data": {
      "image/png": "[encoded data removed]",
      "text/plain": [
       "<Figure size 720x720 with 1 Axes>"
      ]
     },
     "metadata": {
      "needs_background": "light"
     },
     "output_type": "display_data"
    }
   ],
   "source": [
    "t = [ i for i in range(0,100,10) ] \n",
    "s1 = [ i for i in range(0,10000,1000) ]\n",
    "s2 = [ i for i in range(0,5000,500) ]\n",
    "\n",
    "plt.figure(figsize=(10,10))\n",
    "\n",
    "plt.bar(t,s1,width=2)\n",
    "plt.bar(t,s2,width=2)\n",
    "    \n",
    "plt.xlabel('X = t')\n",
    "plt.ylabel('Y = s')\n",
    "plt.title('Plot 1')\n",
    "plt.show()"
   ]
  },
  {
   "cell_type": "code",
   "execution_count": 40,
   "metadata": {},
   "outputs": [
    {
     "data": {
      "image/png": "[encoded data removed]",
      "text/plain": [
       "<Figure size 720x720 with 1 Axes>"
      ]
     },
     "metadata": {
      "needs_background": "light"
     },
     "output_type": "display_data"
    }
   ],
   "source": [
    "t  = [ i for i in range(0,100,10) ] \n",
    "s1 = [ i for i in range(0,10000,1000) ]\n",
    "s2 = [ i for i in range(0,5000,500) ]\n",
    "\n",
    "plt.figure(figsize=(10,10))\n",
    "\n",
    "# negative width shifts the bar left \n",
    "# positive shifts it towards right\n",
    "plt.bar( t, s1, width = -2, align = 'edge', color = 'b')\n",
    "plt.bar( t, s2, width = 2, align = 'edge', color = 'g')\n",
    "\n",
    "# provides anotation to graph\n",
    "plt.legend(['S1', 'S2'])\n",
    "plt.xlabel('X = t')\n",
    "plt.ylabel('Y = s')\n",
    "plt.title('Plot 1')\n",
    "plt.show()"
   ]
  },
  {
   "cell_type": "markdown",
   "metadata": {},
   "source": [
    "Lets start by ploting the most import of all  \n",
    "[**HEATMAP**](https://seaborn.pydata.org/generated/seaborn.heatmap.html)  \n"
   ]
  },
  {
   "cell_type": "code",
   "execution_count": 41,
   "metadata": {},
   "outputs": [
    {
     "data": {
      "text/plain": [
       "<matplotlib.axes._subplots.AxesSubplot at 0x7eff6889ad30>"
      ]
     },
     "execution_count": 41,
     "metadata": {},
     "output_type": "execute_result"
    },
    {
     "data": {
      "image/png": "[encoded data removed]",
      "text/plain": [
       "<Figure size 720x720 with 2 Axes>"
      ]
     },
     "metadata": {
      "needs_background": "light"
     },
     "output_type": "display_data"
    }
   ],
   "source": [
    "plt.figure(figsize=(10,10))\n",
    "sns.heatmap(normalized_df.corr(),annot=True)"
   ]
  },
  {
   "cell_type": "markdown",
   "metadata": {},
   "source": [
    "You might me wondering, what's this?    \n",
    "It shows relation of each column with respect to other.    \n",
    "For example, energy vs accousticness it says -0.56.  \n",
    "Which means it has a negative (indirect) relation, i.e. when one increases other decrease  \n",
    "The closer the value is to 0, the more independent the variable is."
   ]
  },
  {
   "cell_type": "code",
   "execution_count": 42,
   "metadata": {},
   "outputs": [
    {
     "data": {
      "image/png": "[encoded data removed]",
      "text/plain": [
       "<Figure size 432x288 with 1 Axes>"
      ]
     },
     "metadata": {
      "needs_background": "light"
     },
     "output_type": "display_data"
    }
   ],
   "source": [
    "# The graph depicts the higher the loudness, greater is the energy\n",
    "plt.bar(x=data[\"energy\"],height=data[\"loudness\"])\n",
    "plt.xlabel('Energy', fontsize=20)\n",
    "plt.ylabel('Loudness', fontsize=20)\n",
    "plt.title('Graph 1')\n",
    "plt.show()"
   ]
  },
  {
   "cell_type": "code",
   "execution_count": 43,
   "metadata": {},
   "outputs": [
    {
     "data": {
      "image/png": "[encoded data removed]",
      "text/plain": [
       "<Figure size 432x288 with 1 Axes>"
      ]
     },
     "metadata": {
      "needs_background": "light"
     },
     "output_type": "display_data"
    }
   ],
   "source": [
    "# over here we see that most of our songs have high energy and loudness and a direct relation is observed\n",
    "plt.scatter(data[\"energy\"],data[\"loudness\"])\n",
    "plt.xlabel('Energy', fontsize=20)\n",
    "plt.ylabel('Loudness', fontsize=20)\n",
    "plt.title('Graph 1')\n",
    "plt.show()"
   ]
  },
  {
   "cell_type": "code",
   "execution_count": 44,
   "metadata": {},
   "outputs": [
    {
     "data": {
      "text/plain": [
       "array([[<matplotlib.axes._subplots.AxesSubplot object at 0x7eff683b36a0>,\n",
       "        <matplotlib.axes._subplots.AxesSubplot object at 0x7eff65a97370>,\n",
       "        <matplotlib.axes._subplots.AxesSubplot object at 0x7eff65a2f7f0>,\n",
       "        <matplotlib.axes._subplots.AxesSubplot object at 0x7eff65a57610>],\n",
       "       [<matplotlib.axes._subplots.AxesSubplot object at 0x7eff659f7dc0>,\n",
       "        <matplotlib.axes._subplots.AxesSubplot object at 0x7eff65ba46a0>,\n",
       "        <matplotlib.axes._subplots.AxesSubplot object at 0x7eff65ba48b0>,\n",
       "        <matplotlib.axes._subplots.AxesSubplot object at 0x7eff6877b880>],\n",
       "       [<matplotlib.axes._subplots.AxesSubplot object at 0x7eff6889ac70>,\n",
       "        <matplotlib.axes._subplots.AxesSubplot object at 0x7eff68969df0>,\n",
       "        <matplotlib.axes._subplots.AxesSubplot object at 0x7eff689314f0>,\n",
       "        <matplotlib.axes._subplots.AxesSubplot object at 0x7eff689d3b80>],\n",
       "       [<matplotlib.axes._subplots.AxesSubplot object at 0x7eff6898c160>,\n",
       "        <matplotlib.axes._subplots.AxesSubplot object at 0x7eff6b153640>,\n",
       "        <matplotlib.axes._subplots.AxesSubplot object at 0x7eff689a14c0>,\n",
       "        <matplotlib.axes._subplots.AxesSubplot object at 0x7eff6888dd00>]],\n",
       "      dtype=object)"
      ]
     },
     "execution_count": 44,
     "metadata": {},
     "output_type": "execute_result"
    },
    {
     "data": {
      "image/png": "[encoded data removed]",
      "text/plain": [
       "<Figure size 1440x1440 with 16 Axes>"
      ]
     },
     "metadata": {
      "needs_background": "light"
     },
     "output_type": "display_data"
    }
   ],
   "source": [
    "# Lets see our data distribution\n",
    "df.hist(figsize=(20,20))"
   ]
  },
  {
   "cell_type": "markdown",
   "metadata": {},
   "source": [
    "Such graphs help us understand weather our data is imbalanced or not.  \n",
    "There are tonnes of visualization methods and these were the most used ones  \n",
    "For visualising data you need to change the dataset accordingly  \n",
    "for more you may visit [here](https://matplotlib.org/tutorials/introductory/sample_plots.html)"
   ]
  },
  {
   "cell_type": "markdown",
   "metadata": {},
   "source": [
    "# Time for an assignmnet\n",
    "Load the csv in new python notebook  \n",
    "Data_Science_Topics_Survey.csv  \n",
    "Do feature engineering  \n",
    "Plot the graph  \n",
    "We know it'll take some time, but its worth devoting"
   ]
  },
  {
   "cell_type": "code",
   "execution_count": 45,
   "metadata": {},
   "outputs": [
    {
     "data": {
      "text/html": [
       "<div>\n",
       "<style scoped>\n",
       "    .dataframe tbody tr th:only-of-type {\n",
       "        vertical-align: middle;\n",
       "    }\n",
       "\n",
       "    .dataframe tbody tr th {\n",
       "        vertical-align: top;\n",
       "    }\n",
       "\n",
       "    .dataframe thead th {\n",
       "        text-align: right;\n",
       "    }\n",
       "</style>\n",
       "<table border=\"1\" class=\"dataframe\">\n",
       "  <thead>\n",
       "    <tr style=\"text-align: right;\">\n",
       "      <th></th>\n",
       "      <th>Timestamp</th>\n",
       "      <th>What's your level of interest for the following areas of Data Science? [Data Visualization]</th>\n",
       "      <th>What's your level of interest for the following areas of Data Science? [Machine Learning]</th>\n",
       "      <th>What's your level of interest for the following areas of Data Science? [Data Analysis / Statistics]</th>\n",
       "      <th>What's your level of interest for the following areas of Data Science? [Big Data (Spark / Hadoop)]</th>\n",
       "      <th>What's your level of interest for the following areas of Data Science? [Data Journalism]</th>\n",
       "      <th>What's your level of interest for the following areas of Data Science? [Deep Learning]</th>\n",
       "    </tr>\n",
       "  </thead>\n",
       "  <tbody>\n",
       "    <tr>\n",
       "      <th>0</th>\n",
       "      <td>2017/10/17 1:11:52 PM MDT</td>\n",
       "      <td>Very interested</td>\n",
       "      <td>Very interested</td>\n",
       "      <td>Somewhat interested</td>\n",
       "      <td>Not interested</td>\n",
       "      <td>Somewhat interested</td>\n",
       "      <td>Somewhat interested</td>\n",
       "    </tr>\n",
       "    <tr>\n",
       "      <th>1</th>\n",
       "      <td>2017/10/17 2:26:07 PM MDT</td>\n",
       "      <td>Very interested</td>\n",
       "      <td>Very interested</td>\n",
       "      <td>Very interested</td>\n",
       "      <td>Somewhat interested</td>\n",
       "      <td>Not interested</td>\n",
       "      <td>Very interested</td>\n",
       "    </tr>\n",
       "    <tr>\n",
       "      <th>2</th>\n",
       "      <td>2017/10/17 2:37:08 PM MDT</td>\n",
       "      <td>Not interested</td>\n",
       "      <td>Very interested</td>\n",
       "      <td>Somewhat interested</td>\n",
       "      <td>Very interested</td>\n",
       "      <td>Not interested</td>\n",
       "      <td>Very interested</td>\n",
       "    </tr>\n",
       "    <tr>\n",
       "      <th>3</th>\n",
       "      <td>2017/10/17 2:39:26 PM MDT</td>\n",
       "      <td>Very interested</td>\n",
       "      <td>Very interested</td>\n",
       "      <td>Very interested</td>\n",
       "      <td>Very interested</td>\n",
       "      <td>Somewhat interested</td>\n",
       "      <td>Very interested</td>\n",
       "    </tr>\n",
       "    <tr>\n",
       "      <th>4</th>\n",
       "      <td>2017/10/17 2:43:59 PM MDT</td>\n",
       "      <td>Somewhat interested</td>\n",
       "      <td>Very interested</td>\n",
       "      <td>Very interested</td>\n",
       "      <td>Very interested</td>\n",
       "      <td>Not interested</td>\n",
       "      <td>Somewhat interested</td>\n",
       "    </tr>\n",
       "  </tbody>\n",
       "</table>\n",
       "</div>"
      ],
      "text/plain": [
       "                   Timestamp  \\\n",
       "0  2017/10/17 1:11:52 PM MDT   \n",
       "1  2017/10/17 2:26:07 PM MDT   \n",
       "2  2017/10/17 2:37:08 PM MDT   \n",
       "3  2017/10/17 2:39:26 PM MDT   \n",
       "4  2017/10/17 2:43:59 PM MDT   \n",
       "\n",
       "  What's your level of interest for the following areas of Data Science? [Data Visualization]  \\\n",
       "0                                    Very interested                                            \n",
       "1                                    Very interested                                            \n",
       "2                                     Not interested                                            \n",
       "3                                    Very interested                                            \n",
       "4                                Somewhat interested                                            \n",
       "\n",
       "  What's your level of interest for the following areas of Data Science? [Machine Learning]  \\\n",
       "0                                    Very interested                                          \n",
       "1                                    Very interested                                          \n",
       "2                                    Very interested                                          \n",
       "3                                    Very interested                                          \n",
       "4                                    Very interested                                          \n",
       "\n",
       "  What's your level of interest for the following areas of Data Science? [Data Analysis / Statistics]  \\\n",
       "0                                Somewhat interested                                                    \n",
       "1                                    Very interested                                                    \n",
       "2                                Somewhat interested                                                    \n",
       "3                                    Very interested                                                    \n",
       "4                                    Very interested                                                    \n",
       "\n",
       "  What's your level of interest for the following areas of Data Science? [Big Data (Spark / Hadoop)]  \\\n",
       "0                                     Not interested                                                   \n",
       "1                                Somewhat interested                                                   \n",
       "2                                    Very interested                                                   \n",
       "3                                    Very interested                                                   \n",
       "4                                    Very interested                                                   \n",
       "\n",
       "  What's your level of interest for the following areas of Data Science? [Data Journalism]  \\\n",
       "0                                Somewhat interested                                         \n",
       "1                                     Not interested                                         \n",
       "2                                     Not interested                                         \n",
       "3                                Somewhat interested                                         \n",
       "4                                     Not interested                                         \n",
       "\n",
       "  What's your level of interest for the following areas of Data Science? [Deep Learning]  \n",
       "0                                Somewhat interested                                      \n",
       "1                                    Very interested                                      \n",
       "2                                    Very interested                                      \n",
       "3                                    Very interested                                      \n",
       "4                                Somewhat interested                                      "
      ]
     },
     "execution_count": 45,
     "metadata": {},
     "output_type": "execute_result"
    }
   ],
   "source": [
    "datagen=pd.read_csv(\"data/Data_Science_Topics_Survey.csv\")\n",
    "datagen.head()"
   ]
  },
  {
   "cell_type": "markdown",
   "metadata": {},
   "source": [
    "Try to make a stacked bar graph, depicting number of students of each category for each question."
   ]
  }
 ],
 "metadata": {
  "kernelspec": {
   "display_name": "Python 3",
   "language": "python",
   "name": "python3"
  },
  "language_info": {
   "codemirror_mode": {
    "name": "ipython",
    "version": 3
   },
   "file_extension": ".py",
   "mimetype": "text/x-python",
   "name": "python",
   "nbconvert_exporter": "python",
   "pygments_lexer": "ipython3",
   "version": "3.8.2"
  }
 },
 "nbformat": 4,
 "nbformat_minor": 2
}
