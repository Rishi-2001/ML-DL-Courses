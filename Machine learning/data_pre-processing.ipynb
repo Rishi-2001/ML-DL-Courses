{
 "cells": [
  {
   "cell_type": "markdown",
   "metadata": {},
   "source": [
    "# Welcome to the Basics of Data Preprocessing"
   ]
  },
  {
   "cell_type": "markdown",
   "metadata": {},
   "source": [
    "Here,we'll learn about Feature Engineering. This is the art that helps achieve great accuracy in Machine Learning.  \n",
    "There are a number of things we need to keep in mind before we send in our data to formulas.  \n",
    "\n",
    "No null data, and no strings presence in the dataset is must, but a number of other factors also affect our data. More than 40% of the time is consumed in this step by most professionals as well, so do refer blogs to learn more.  \n",
    "Let's get started"
   ]
  },
  {
   "cell_type": "code",
   "execution_count": 1,
   "metadata": {},
   "outputs": [],
   "source": [
    "import pandas as pd\n",
    "import numpy as np"
   ]
  },
  {
   "cell_type": "code",
   "execution_count": 2,
   "metadata": {},
   "outputs": [
    {
     "data": {
      "text/html": [
       "<div>\n",
       "<style scoped>\n",
       "    .dataframe tbody tr th:only-of-type {\n",
       "        vertical-align: middle;\n",
       "    }\n",
       "\n",
       "    .dataframe tbody tr th {\n",
       "        vertical-align: top;\n",
       "    }\n",
       "\n",
       "    .dataframe thead th {\n",
       "        text-align: right;\n",
       "    }\n",
       "</style>\n",
       "<table border=\"1\" class=\"dataframe\">\n",
       "  <thead>\n",
       "    <tr style=\"text-align: right;\">\n",
       "      <th></th>\n",
       "      <th>City</th>\n",
       "      <th>Experience</th>\n",
       "      <th>Salary</th>\n",
       "      <th>Promotion</th>\n",
       "    </tr>\n",
       "  </thead>\n",
       "  <tbody>\n",
       "    <tr>\n",
       "      <th>0</th>\n",
       "      <td>Delhi</td>\n",
       "      <td>4.0</td>\n",
       "      <td>55000.0</td>\n",
       "      <td>No</td>\n",
       "    </tr>\n",
       "    <tr>\n",
       "      <th>1</th>\n",
       "      <td>Mumbai</td>\n",
       "      <td>2.0</td>\n",
       "      <td>20000.0</td>\n",
       "      <td>Yes</td>\n",
       "    </tr>\n",
       "    <tr>\n",
       "      <th>2</th>\n",
       "      <td>Agra</td>\n",
       "      <td>3.0</td>\n",
       "      <td>30000.0</td>\n",
       "      <td>No</td>\n",
       "    </tr>\n",
       "    <tr>\n",
       "      <th>3</th>\n",
       "      <td>Mumbai</td>\n",
       "      <td>8.0</td>\n",
       "      <td>72000.0</td>\n",
       "      <td>No</td>\n",
       "    </tr>\n",
       "    <tr>\n",
       "      <th>4</th>\n",
       "      <td>Agra</td>\n",
       "      <td>4.0</td>\n",
       "      <td>NaN</td>\n",
       "      <td>Yes</td>\n",
       "    </tr>\n",
       "  </tbody>\n",
       "</table>\n",
       "</div>"
      ],
      "text/plain": [
       "     City  Experience   Salary Promotion\n",
       "0   Delhi         4.0  55000.0        No\n",
       "1  Mumbai         2.0  20000.0       Yes\n",
       "2    Agra         3.0  30000.0        No\n",
       "3  Mumbai         8.0  72000.0        No\n",
       "4    Agra         4.0      NaN       Yes"
      ]
     },
     "execution_count": 2,
     "metadata": {},
     "output_type": "execute_result"
    }
   ],
   "source": [
    "data=pd.read_csv('data/Data.csv')\n",
    "data.head()"
   ]
  },
  {
   "cell_type": "markdown",
   "metadata": {},
   "source": [
    "If you look at the dataset you'll see we have missing values and you know how to deal with it.    \n",
    "There are also new methods which I'll guide you through this week."
   ]
  },
  {
   "cell_type": "code",
   "execution_count": 3,
   "metadata": {},
   "outputs": [
    {
     "data": {
      "text/plain": [
       "City          1\n",
       "Experience    2\n",
       "Salary        1\n",
       "Promotion     0\n",
       "dtype: int64"
      ]
     },
     "execution_count": 3,
     "metadata": {},
     "output_type": "execute_result"
    }
   ],
   "source": [
    "data.isna().sum()"
   ]
  },
  {
   "cell_type": "code",
   "execution_count": 4,
   "metadata": {},
   "outputs": [
    {
     "data": {
      "text/html": [
       "<div>\n",
       "<style scoped>\n",
       "    .dataframe tbody tr th:only-of-type {\n",
       "        vertical-align: middle;\n",
       "    }\n",
       "\n",
       "    .dataframe tbody tr th {\n",
       "        vertical-align: top;\n",
       "    }\n",
       "\n",
       "    .dataframe thead th {\n",
       "        text-align: right;\n",
       "    }\n",
       "</style>\n",
       "<table border=\"1\" class=\"dataframe\">\n",
       "  <thead>\n",
       "    <tr style=\"text-align: right;\">\n",
       "      <th></th>\n",
       "      <th>City</th>\n",
       "      <th>Experience</th>\n",
       "      <th>Salary</th>\n",
       "      <th>Promotion</th>\n",
       "    </tr>\n",
       "  </thead>\n",
       "  <tbody>\n",
       "    <tr>\n",
       "      <th>0</th>\n",
       "      <td>Delhi</td>\n",
       "      <td>4.0</td>\n",
       "      <td>55000.0</td>\n",
       "      <td>No</td>\n",
       "    </tr>\n",
       "    <tr>\n",
       "      <th>1</th>\n",
       "      <td>Mumbai</td>\n",
       "      <td>2.0</td>\n",
       "      <td>20000.0</td>\n",
       "      <td>Yes</td>\n",
       "    </tr>\n",
       "    <tr>\n",
       "      <th>2</th>\n",
       "      <td>Agra</td>\n",
       "      <td>3.0</td>\n",
       "      <td>30000.0</td>\n",
       "      <td>No</td>\n",
       "    </tr>\n",
       "    <tr>\n",
       "      <th>3</th>\n",
       "      <td>Mumbai</td>\n",
       "      <td>8.0</td>\n",
       "      <td>72000.0</td>\n",
       "      <td>No</td>\n",
       "    </tr>\n",
       "    <tr>\n",
       "      <th>5</th>\n",
       "      <td>Delhi</td>\n",
       "      <td>5.0</td>\n",
       "      <td>60000.0</td>\n",
       "      <td>Yes</td>\n",
       "    </tr>\n",
       "  </tbody>\n",
       "</table>\n",
       "</div>"
      ],
      "text/plain": [
       "     City  Experience   Salary Promotion\n",
       "0   Delhi         4.0  55000.0        No\n",
       "1  Mumbai         2.0  20000.0       Yes\n",
       "2    Agra         3.0  30000.0        No\n",
       "3  Mumbai         8.0  72000.0        No\n",
       "5   Delhi         5.0  60000.0       Yes"
      ]
     },
     "execution_count": 4,
     "metadata": {},
     "output_type": "execute_result"
    }
   ],
   "source": [
    "# method 1\n",
    "data1 = data.dropna(how='any',axis=0) \n",
    "data1.head()"
   ]
  },
  {
   "cell_type": "code",
   "execution_count": 5,
   "metadata": {},
   "outputs": [
    {
     "name": "stdout",
     "output_type": "stream",
     "text": [
      "x_most_frequent =  [[55000.]\n",
      " [20000.]\n",
      " [30000.]\n",
      " [72000.]\n",
      " [52000.]\n",
      " [60000.]\n",
      " [52000.]\n",
      " [51000.]\n",
      " [59000.]\n",
      " [31000.]\n",
      " [58000.]\n",
      " [52000.]\n",
      " [79000.]\n",
      " [60000.]\n",
      " [67000.]]\n",
      "x_mean =  [[55000.        ]\n",
      " [20000.        ]\n",
      " [30000.        ]\n",
      " [72000.        ]\n",
      " [53285.71428571]\n",
      " [60000.        ]\n",
      " [52000.        ]\n",
      " [51000.        ]\n",
      " [59000.        ]\n",
      " [31000.        ]\n",
      " [58000.        ]\n",
      " [52000.        ]\n",
      " [79000.        ]\n",
      " [60000.        ]\n",
      " [67000.        ]]\n",
      "x_median =  [[55000.]\n",
      " [20000.]\n",
      " [30000.]\n",
      " [72000.]\n",
      " [56500.]\n",
      " [60000.]\n",
      " [52000.]\n",
      " [51000.]\n",
      " [59000.]\n",
      " [31000.]\n",
      " [58000.]\n",
      " [52000.]\n",
      " [79000.]\n",
      " [60000.]\n",
      " [67000.]]\n"
     ]
    }
   ],
   "source": [
    "# method 2\n",
    "from sklearn.impute import SimpleImputer as Imputer\n",
    "x = data['Salary'].values.reshape(-1,1)\n",
    "\n",
    "x_most_frequent = Imputer(missing_values=np.nan, \n",
    "                          strategy = 'most_frequent').fit_transform(x)\n",
    "print(\"x_most_frequent = \",x_most_frequent)\n",
    "\n",
    "x_mean = Imputer(missing_values=np.nan, \n",
    "                          strategy = 'mean').fit_transform(x)\n",
    "print(\"x_mean = \",x_mean)\n",
    "\n",
    "x_median = Imputer(missing_values=np.nan, \n",
    "                          strategy = 'median').fit_transform(x)\n",
    "print(\"x_median = \",x_median)"
   ]
  },
  {
   "cell_type": "markdown",
   "metadata": {},
   "source": [
    "Continuing the preprocessing, do keep in mind ML require mathematics, so we cannot have words  \n",
    "To solve this we need to convert them to numbers.  \n",
    "We can do it by giving them numbers like\n",
    "* Agra 0\n",
    "* Delhi 1\n",
    "* Mumbai 2"
   ]
  },
  {
   "cell_type": "code",
   "execution_count": 6,
   "metadata": {},
   "outputs": [],
   "source": [
    "#converting data frame to values\n",
    "X = data1.iloc[:, :-1].values\n",
    "y = data1.iloc[:, 3].values"
   ]
  },
  {
   "cell_type": "code",
   "execution_count": 7,
   "metadata": {},
   "outputs": [
    {
     "data": {
      "text/plain": [
       "array([['Delhi', 4.0, 55000.0],\n",
       "       ['Mumbai', 2.0, 20000.0],\n",
       "       ['Agra', 3.0, 30000.0],\n",
       "       ['Mumbai', 8.0, 72000.0],\n",
       "       ['Delhi', 5.0, 60000.0],\n",
       "       ['Delhi', 4.0, 51000.0],\n",
       "       ['Agra', 5.0, 59000.0],\n",
       "       ['Delhi', 3.0, 31000.0],\n",
       "       ['Delhi', 8.0, 79000.0],\n",
       "       ['Agra', 5.0, 60000.0],\n",
       "       ['Delhi', 7.0, 67000.0]], dtype=object)"
      ]
     },
     "execution_count": 7,
     "metadata": {},
     "output_type": "execute_result"
    }
   ],
   "source": [
    "X"
   ]
  },
  {
   "cell_type": "code",
   "execution_count": 8,
   "metadata": {},
   "outputs": [
    {
     "data": {
      "text/plain": [
       "array(['No', 'Yes', 'No', 'No', 'Yes', 'Yes', 'No', 'Yes', 'Yes', 'No',\n",
       "       'Yes'], dtype=object)"
      ]
     },
     "execution_count": 8,
     "metadata": {},
     "output_type": "execute_result"
    }
   ],
   "source": [
    "y"
   ]
  },
  {
   "cell_type": "code",
   "execution_count": 9,
   "metadata": {},
   "outputs": [
    {
     "data": {
      "text/plain": [
       "array([[1, 4.0, 55000.0],\n",
       "       [2, 2.0, 20000.0],\n",
       "       [0, 3.0, 30000.0],\n",
       "       [2, 8.0, 72000.0],\n",
       "       [1, 5.0, 60000.0],\n",
       "       [1, 4.0, 51000.0],\n",
       "       [0, 5.0, 59000.0],\n",
       "       [1, 3.0, 31000.0],\n",
       "       [1, 8.0, 79000.0],\n",
       "       [0, 5.0, 60000.0],\n",
       "       [1, 7.0, 67000.0]], dtype=object)"
      ]
     },
     "execution_count": 9,
     "metadata": {},
     "output_type": "execute_result"
    }
   ],
   "source": [
    "from sklearn.preprocessing import LabelEncoder\n",
    "labelencoder_X = LabelEncoder()\n",
    "\n",
    "X[:, 0] = labelencoder_X.fit_transform(X[:, 0])\n",
    "X"
   ]
  },
  {
   "cell_type": "code",
   "execution_count": 10,
   "metadata": {},
   "outputs": [
    {
     "data": {
      "text/plain": [
       "array(['Agra', 'Delhi', 'Mumbai'], dtype=object)"
      ]
     },
     "execution_count": 10,
     "metadata": {},
     "output_type": "execute_result"
    }
   ],
   "source": [
    "labelencoder_X.classes_"
   ]
  },
  {
   "cell_type": "code",
   "execution_count": 11,
   "metadata": {},
   "outputs": [],
   "source": [
    "labelencoder_y = LabelEncoder()\n",
    "y = labelencoder_y.fit_transform(y)"
   ]
  },
  {
   "cell_type": "code",
   "execution_count": 12,
   "metadata": {},
   "outputs": [
    {
     "data": {
      "text/plain": [
       "array([0, 1, 0, 0, 1, 1, 0, 1, 1, 0, 1])"
      ]
     },
     "execution_count": 12,
     "metadata": {},
     "output_type": "execute_result"
    }
   ],
   "source": [
    "y"
   ]
  },
  {
   "cell_type": "markdown",
   "metadata": {},
   "source": [
    "* no 0\n",
    "* yes 1"
   ]
  },
  {
   "cell_type": "markdown",
   "metadata": {},
   "source": [
    "Over here we'll point out that in case of cities we shall not give weightage to countries.  \n",
    "In a sense as the number of cities increase, cities with larger number will be given more priority my the ML formulas.  \n",
    "\n",
    "Due to this Mumbai will get more importance than Agra.   \n",
    "Think it over or google what will happen if instead of 3 we'll have 100 countries!!\n",
    "\n",
    "To over come this we'll have to judge a Column and apply one hot encoding."
   ]
  },
  {
   "cell_type": "code",
   "execution_count": 13,
   "metadata": {},
   "outputs": [
    {
     "data": {
      "text/plain": [
       "array([[0., 1., 0.],\n",
       "       [0., 0., 1.],\n",
       "       [1., 0., 0.],\n",
       "       [0., 0., 1.],\n",
       "       [0., 1., 0.],\n",
       "       [0., 1., 0.],\n",
       "       [1., 0., 0.],\n",
       "       [0., 1., 0.],\n",
       "       [0., 1., 0.],\n",
       "       [1., 0., 0.],\n",
       "       [0., 1., 0.]])"
      ]
     },
     "execution_count": 13,
     "metadata": {},
     "output_type": "execute_result"
    }
   ],
   "source": [
    "from sklearn.preprocessing import OneHotEncoder\n",
    "\n",
    "onehotencoder = OneHotEncoder(categories='auto')   \n",
    "p = onehotencoder.fit_transform(X[:,0:1]).toarray()\n",
    "p"
   ]
  },
  {
   "cell_type": "code",
   "execution_count": 14,
   "metadata": {},
   "outputs": [
    {
     "data": {
      "text/html": [
       "<div>\n",
       "<style scoped>\n",
       "    .dataframe tbody tr th:only-of-type {\n",
       "        vertical-align: middle;\n",
       "    }\n",
       "\n",
       "    .dataframe tbody tr th {\n",
       "        vertical-align: top;\n",
       "    }\n",
       "\n",
       "    .dataframe thead th {\n",
       "        text-align: right;\n",
       "    }\n",
       "</style>\n",
       "<table border=\"1\" class=\"dataframe\">\n",
       "  <thead>\n",
       "    <tr style=\"text-align: right;\">\n",
       "      <th></th>\n",
       "      <th>Agra</th>\n",
       "      <th>Delhi</th>\n",
       "      <th>Mumbai</th>\n",
       "    </tr>\n",
       "  </thead>\n",
       "  <tbody>\n",
       "    <tr>\n",
       "      <th>0</th>\n",
       "      <td>0</td>\n",
       "      <td>1</td>\n",
       "      <td>0</td>\n",
       "    </tr>\n",
       "    <tr>\n",
       "      <th>1</th>\n",
       "      <td>0</td>\n",
       "      <td>0</td>\n",
       "      <td>1</td>\n",
       "    </tr>\n",
       "    <tr>\n",
       "      <th>2</th>\n",
       "      <td>1</td>\n",
       "      <td>0</td>\n",
       "      <td>0</td>\n",
       "    </tr>\n",
       "    <tr>\n",
       "      <th>3</th>\n",
       "      <td>0</td>\n",
       "      <td>0</td>\n",
       "      <td>1</td>\n",
       "    </tr>\n",
       "    <tr>\n",
       "      <th>5</th>\n",
       "      <td>0</td>\n",
       "      <td>1</td>\n",
       "      <td>0</td>\n",
       "    </tr>\n",
       "  </tbody>\n",
       "</table>\n",
       "</div>"
      ],
      "text/plain": [
       "   Agra  Delhi  Mumbai\n",
       "0     0      1       0\n",
       "1     0      0       1\n",
       "2     1      0       0\n",
       "3     0      0       1\n",
       "5     0      1       0"
      ]
     },
     "execution_count": 14,
     "metadata": {},
     "output_type": "execute_result"
    }
   ],
   "source": [
    "# This will seem more senseful to you. \n",
    "dff = pd.get_dummies(data1['City'])\n",
    "dff.head()"
   ]
  },
  {
   "cell_type": "markdown",
   "metadata": {},
   "source": [
    "Although we converted are variables to the above format, still we'll face one issue. It's callled **Dummy Variable Trap**. We'll discuss it next week. "
   ]
  },
  {
   "cell_type": "code",
   "execution_count": 15,
   "metadata": {},
   "outputs": [
    {
     "data": {
      "text/html": [
       "<div>\n",
       "<style scoped>\n",
       "    .dataframe tbody tr th:only-of-type {\n",
       "        vertical-align: middle;\n",
       "    }\n",
       "\n",
       "    .dataframe tbody tr th {\n",
       "        vertical-align: top;\n",
       "    }\n",
       "\n",
       "    .dataframe thead th {\n",
       "        text-align: right;\n",
       "    }\n",
       "</style>\n",
       "<table border=\"1\" class=\"dataframe\">\n",
       "  <thead>\n",
       "    <tr style=\"text-align: right;\">\n",
       "      <th></th>\n",
       "      <th>Agra</th>\n",
       "      <th>Delhi</th>\n",
       "      <th>Mumbai</th>\n",
       "      <th>Experience</th>\n",
       "      <th>Salary</th>\n",
       "    </tr>\n",
       "  </thead>\n",
       "  <tbody>\n",
       "    <tr>\n",
       "      <th>0</th>\n",
       "      <td>0</td>\n",
       "      <td>1</td>\n",
       "      <td>0</td>\n",
       "      <td>4.0</td>\n",
       "      <td>55000.0</td>\n",
       "    </tr>\n",
       "    <tr>\n",
       "      <th>1</th>\n",
       "      <td>0</td>\n",
       "      <td>0</td>\n",
       "      <td>1</td>\n",
       "      <td>2.0</td>\n",
       "      <td>20000.0</td>\n",
       "    </tr>\n",
       "    <tr>\n",
       "      <th>2</th>\n",
       "      <td>1</td>\n",
       "      <td>0</td>\n",
       "      <td>0</td>\n",
       "      <td>3.0</td>\n",
       "      <td>30000.0</td>\n",
       "    </tr>\n",
       "    <tr>\n",
       "      <th>3</th>\n",
       "      <td>0</td>\n",
       "      <td>0</td>\n",
       "      <td>1</td>\n",
       "      <td>8.0</td>\n",
       "      <td>72000.0</td>\n",
       "    </tr>\n",
       "    <tr>\n",
       "      <th>5</th>\n",
       "      <td>0</td>\n",
       "      <td>1</td>\n",
       "      <td>0</td>\n",
       "      <td>5.0</td>\n",
       "      <td>60000.0</td>\n",
       "    </tr>\n",
       "    <tr>\n",
       "      <th>7</th>\n",
       "      <td>0</td>\n",
       "      <td>1</td>\n",
       "      <td>0</td>\n",
       "      <td>4.0</td>\n",
       "      <td>51000.0</td>\n",
       "    </tr>\n",
       "    <tr>\n",
       "      <th>8</th>\n",
       "      <td>1</td>\n",
       "      <td>0</td>\n",
       "      <td>0</td>\n",
       "      <td>5.0</td>\n",
       "      <td>59000.0</td>\n",
       "    </tr>\n",
       "    <tr>\n",
       "      <th>9</th>\n",
       "      <td>0</td>\n",
       "      <td>1</td>\n",
       "      <td>0</td>\n",
       "      <td>3.0</td>\n",
       "      <td>31000.0</td>\n",
       "    </tr>\n",
       "    <tr>\n",
       "      <th>12</th>\n",
       "      <td>0</td>\n",
       "      <td>1</td>\n",
       "      <td>0</td>\n",
       "      <td>8.0</td>\n",
       "      <td>79000.0</td>\n",
       "    </tr>\n",
       "    <tr>\n",
       "      <th>13</th>\n",
       "      <td>1</td>\n",
       "      <td>0</td>\n",
       "      <td>0</td>\n",
       "      <td>5.0</td>\n",
       "      <td>60000.0</td>\n",
       "    </tr>\n",
       "    <tr>\n",
       "      <th>14</th>\n",
       "      <td>0</td>\n",
       "      <td>1</td>\n",
       "      <td>0</td>\n",
       "      <td>7.0</td>\n",
       "      <td>67000.0</td>\n",
       "    </tr>\n",
       "  </tbody>\n",
       "</table>\n",
       "</div>"
      ],
      "text/plain": [
       "    Agra  Delhi  Mumbai  Experience   Salary\n",
       "0      0      1       0         4.0  55000.0\n",
       "1      0      0       1         2.0  20000.0\n",
       "2      1      0       0         3.0  30000.0\n",
       "3      0      0       1         8.0  72000.0\n",
       "5      0      1       0         5.0  60000.0\n",
       "7      0      1       0         4.0  51000.0\n",
       "8      1      0       0         5.0  59000.0\n",
       "9      0      1       0         3.0  31000.0\n",
       "12     0      1       0         8.0  79000.0\n",
       "13     1      0       0         5.0  60000.0\n",
       "14     0      1       0         7.0  67000.0"
      ]
     },
     "execution_count": 15,
     "metadata": {},
     "output_type": "execute_result"
    }
   ],
   "source": [
    "dff=pd.concat([dff, data1[\"Experience\"],data1[\"Salary\"]], axis=1)\n",
    "dff"
   ]
  },
  {
   "cell_type": "markdown",
   "metadata": {},
   "source": [
    "# Normalisation\n",
    "In the data frame above we should scale down the salary and Experience because with respect to 1 and 0 it is too large and will neglect the relevance of City. There are many methods to achieve this."
   ]
  },
  {
   "cell_type": "code",
   "execution_count": 16,
   "metadata": {},
   "outputs": [
    {
     "name": "stdout",
     "output_type": "stream",
     "text": [
      "[[-0.61237244  0.91287093 -0.47140452 -0.47140452  0.10738071]\n",
      " [-0.61237244 -1.09544512  2.12132034 -1.50849447 -1.8612657 ]\n",
      " [ 1.63299316 -1.09544512 -0.47140452 -0.98994949 -1.29879529]\n",
      " [-0.61237244 -1.09544512  2.12132034  1.60277537  1.0635804 ]\n",
      " [-0.61237244  0.91287093 -0.47140452  0.04714045  0.38861591]\n",
      " [-0.61237244  0.91287093 -0.47140452 -0.47140452 -0.11760745]\n",
      " [ 1.63299316 -1.09544512 -0.47140452  0.04714045  0.33236887]\n",
      " [-0.61237244  0.91287093 -0.47140452 -0.98994949 -1.24254825]\n",
      " [-0.61237244  0.91287093 -0.47140452  1.60277537  1.45730968]\n",
      " [ 1.63299316 -1.09544512 -0.47140452  0.04714045  0.38861591]\n",
      " [-0.61237244  0.91287093 -0.47140452  1.0842304   0.7823452 ]]\n"
     ]
    }
   ],
   "source": [
    "X = dff.iloc[:,:].values\n",
    "\n",
    "from sklearn.preprocessing import StandardScaler\n",
    "sc_X = StandardScaler()\n",
    "print(sc_X.fit_transform(X))"
   ]
  },
  {
   "cell_type": "code",
   "execution_count": 17,
   "metadata": {},
   "outputs": [
    {
     "name": "stdout",
     "output_type": "stream",
     "text": [
      "[[0.         1.         0.         0.5        0.69620253]\n",
      " [0.         0.         1.         0.25       0.25316456]\n",
      " [1.         0.         0.         0.375      0.37974684]\n",
      " [0.         0.         1.         1.         0.91139241]\n",
      " [0.         1.         0.         0.625      0.75949367]\n",
      " [0.         1.         0.         0.5        0.64556962]\n",
      " [1.         0.         0.         0.625      0.74683544]\n",
      " [0.         1.         0.         0.375      0.39240506]\n",
      " [0.         1.         0.         1.         1.        ]\n",
      " [1.         0.         0.         0.625      0.75949367]\n",
      " [0.         1.         0.         0.875      0.84810127]]\n"
     ]
    }
   ],
   "source": [
    "X = dff.iloc[:,:].values\n",
    "\n",
    "from sklearn.preprocessing import MaxAbsScaler\n",
    "m_X = MaxAbsScaler()\n",
    "print(m_X.fit_transform(X))"
   ]
  },
  {
   "cell_type": "markdown",
   "metadata": {},
   "source": [
    "## Machine Learning\n",
    "- [Application](https://www.geeksforgeeks.org/machine-learning-introduction/)\n",
    "- [Types of ML models](https://www.geeksforgeeks.org/ml-types-learning-supervised-learning/)\n",
    "- [Difference between Supervised and Unsupervised Learning](https://www.geeksforgeeks.org/difference-between-supervised-and-unsupervised-learning/?ref=rp)\n",
    "- [Semi-supervised Learning](https://www.geeksforgeeks.org/ml-semi-supervised-learning/?ref=rp)"
   ]
  },
  {
   "cell_type": "markdown",
   "metadata": {},
   "source": [
    "## Other Links to refer: \n",
    "- [Scikit-Learn](https://scikit-learn.org/stable/modules/classes.html#module-sklearn.preprocessing)\n",
    "- [Geek for Geeks](https://www.geeksforgeeks.org/data-preprocessing-machine-learning-python/)\n",
    "- [Medium](https://medium.com/search?q=preprocessing%20in%20machine%20learning)\n",
    "- [YouTube](https://www.youtube.com/results?search_query=preprocessing+in+machine+learning)\n",
    "- [Analytics Vidhya](https://www.analyticsvidhya.com/blog/2016/07/practical-guide-data-preprocessing-python-scikit-learn/)"
   ]
  }
 ],
 "metadata": {
  "kernelspec": {
   "display_name": "Python 3",
   "language": "python",
   "name": "python3"
  },
  "language_info": {
   "codemirror_mode": {
    "name": "ipython",
    "version": 3
   },
   "file_extension": ".py",
   "mimetype": "text/x-python",
   "name": "python",
   "nbconvert_exporter": "python",
   "pygments_lexer": "ipython3",
   "version": "3.8.5"
  }
 },
 "nbformat": 4,
 "nbformat_minor": 2
}
